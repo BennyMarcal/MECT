{
 "cells": [
  {
   "metadata": {
    "ExecuteTime": {
     "end_time": "2024-11-13T15:21:48.739530Z",
     "start_time": "2024-11-13T15:21:47.906893Z"
    }
   },
   "cell_type": "code",
   "source": [
    "import numpy as np\n",
    "import cv2\n",
    "import matplotlib.pyplot as plt"
   ],
   "id": "c9b4960c4fbff47",
   "outputs": [],
   "execution_count": 1
  },
  {
   "metadata": {
    "ExecuteTime": {
     "end_time": "2024-11-13T15:22:05.372769Z",
     "start_time": "2024-11-13T15:22:05.357566Z"
    }
   },
   "cell_type": "code",
   "source": [
    "\n",
    "def sigmoid(x):\n",
    "    epsilon = 1.0e-15\n",
    "    x = np.clip(x, -500, 500)\n",
    "    return np.clip(1/(1+np.exp(-x)), 0 + epsilon,  1 - epsilon)\n",
    "\n",
    "def logisticRegression(X, y, num_iterations, learning_rate, target_cost):\n",
    "    m, n = X.shape\n",
    "    theta = np.zeros((n, 1))\n",
    "    b = 0\n",
    "    cost_history = []\n",
    "    for i in range(num_iterations):\n",
    "        h = sigmoid(np.dot(X, theta)) # forward pass\n",
    "        cost = 1/m * np.sum(-y * np.log(h) - (1 - y) * np.log(1 - h)) # cost calculation\n",
    "        grad = (1/m) * np.dot(X.T, (h - y)) # backwards pass\n",
    "        theta -= learning_rate * grad # update weights and bias\n",
    "        cost_history += [cost]\n",
    "        if cost < target_cost:\n",
    "            print(\"\\r                               \\r\\tFinal Cost (\",i,\"):\", cost_history[-1], end=\"\")\n",
    "            break\n",
    "        # if i % 10 == 0:\n",
    "        print(\"\\rCost (\",i,\"):\", cost_history[-1], end=\"\")\n",
    "\n",
    "    return theta, cost_history\n",
    "\n",
    "def oneVsAll(X, y, num_iterations, learning_rate, target_cost):\n",
    "    m, n = X.shape\n",
    "    k = (np.min(y), np.max(y))\n",
    "    print(k)\n",
    "\n",
    "    all_theta = []\n",
    "    all_cost = []\n",
    "    for i in range(k[0], k[1]):\n",
    "        print(\"K\",i)\n",
    "        theta, cost_history = logisticRegression(X, np.where(y == i, 1, 0), num_iterations, learning_rate, target_cost)\n",
    "        all_theta.append(theta)\n",
    "        all_cost.extend(cost_history)\n",
    "        print(\"\")\n",
    "\n",
    "    return all_theta, all_cost\n"
   ],
   "id": "ed0ee80df8c2e1fe",
   "outputs": [],
   "execution_count": 2
  },
  {
   "metadata": {
    "ExecuteTime": {
     "end_time": "2024-11-13T15:22:08.520802Z",
     "start_time": "2024-11-13T15:22:08.497031Z"
    }
   },
   "cell_type": "code",
   "source": [
    "# Load your dataset\n",
    "X = np.load(\"dataset/X.npy\")\n",
    "y = np.load(\"dataset/Y.npy\")\n",
    "y1 = np.argmax(y, axis=1).reshape(y.shape[0], 1) + 1  # Transform `y` to (m, 1) matrix\n",
    "\n",
    "# get train and test array\n",
    "# Xx = np.array([])\n",
    "# Xt = np.array([])\n",
    "# yy = np.array([])\n",
    "# yt = np.array([])\n",
    "\n",
    "# get indexes of class change\n",
    "idx = []\n",
    "lc = 0\n",
    "for i in range(y1.shape[0]):\n",
    "    if y1[i][0]!=lc:\n",
    "        idx += [i]\n",
    "        lc = y1[i][0]\n",
    "idx += [y1.shape[0]]\n",
    "print(\"Classes boundaries:\", idx)\n",
    "\n",
    "\n"
   ],
   "id": "40e7e574f8e2d745",
   "outputs": [
    {
     "name": "stdout",
     "output_type": "stream",
     "text": [
      "Classes boundaries: [0, 204, 409, 615, 822, 1028, 1236, 1443, 1649, 1855, 2062]\n"
     ]
    }
   ],
   "execution_count": 3
  },
  {
   "metadata": {
    "collapsed": true,
    "ExecuteTime": {
     "end_time": "2024-11-13T16:53:20.833951Z",
     "start_time": "2024-11-13T16:53:06.395676Z"
    }
   },
   "cell_type": "code",
   "source": [
    "# Prepare to store the contour-based features\n",
    "X_features = []\n",
    "y_features = []\n",
    "\n",
    "scales = [0.9, 1.0, 1.1]\n",
    "angles = range(-10, 10+1, 5)\n",
    "\n",
    "# Process each image to extract contours\n",
    "for i in range(X.shape[0]):\n",
    "    # Reshape each sample to 2D (assuming grayscale image)\n",
    "    image= cv2.convertScaleAbs(X[i], alpha=255.0)  # Scale to 0-255\n",
    "    \n",
    "    rows, cols = image.shape[:2]\n",
    "    \n",
    "    for scale in scales:\n",
    "        scaled_image = cv2.resize(image, (0, 0), fx=scale, fy=scale)\n",
    "        if scale!=1.0:\n",
    "            pad_y = max(0, rows - scaled_image.shape[0])\n",
    "            pad_x = max(0, cols - scaled_image.shape[1])\n",
    "            scaled_image = cv2.resize(scaled_image, (cols, rows))\n",
    "        \n",
    "        for angle in angles:\n",
    "            M = cv2.getRotationMatrix2D((cols / 2, rows / 2), angle, 1)\n",
    "            rotated_image = cv2.warpAffine(scaled_image, M, (cols, rows))\n",
    "            \n",
    "            # Apply blurring to the rotated image\n",
    "            blurred_image = cv2.GaussianBlur(rotated_image, (5, 5), 0)\n",
    "            \n",
    "            # Apply edge detection\n",
    "            edges = cv2.Canny(blurred_image, 50, 250)\n",
    "            \n",
    "            # Find contours\n",
    "            contours, _ = cv2.findContours(edges, cv2.RETR_EXTERNAL, cv2.CHAIN_APPROX_SIMPLE)\n",
    "            \n",
    "            # Flatten the largest contour (or alternative method if contours are small)\n",
    "            if contours:\n",
    "                largest_contour = max(contours, key=cv2.contourArea)\n",
    "                contour_flattened = largest_contour.flatten()\n",
    "            else:\n",
    "                contour_flattened = np.zeros(100)  # Adjust size if necessary\n",
    "\n",
    "            # Draw contours on a blank canvas\n",
    "            contour_canvas = np.zeros_like(image)\n",
    "            if contours:\n",
    "                cv2.drawContours(contour_canvas, contours, -1, (255), 1)  # White color for contours\n",
    "            \n",
    "            X_features.append(contour_canvas)\n",
    "            y_features.extend([y1[i]])\n",
    "\n",
    "X_features = np.array(X_features)\n",
    "X_features = X_features.reshape(X_features.shape[0], -1)\n",
    "y_features = np.array(y_features)\n",
    "\n",
    "# Now `X_contour` is the feature array based on contours\n",
    "print(\"Shape of contour-based feature array:\", X_features.shape)\n",
    "print(\"Shape of new y:\", y_features.shape, [np.min(y_features), np.max(y_features)])\n",
    "\n",
    "# Proceed with training using `X_contour` as input features\n",
    "m, n = X_features.shape\n",
    "print(\"(number of dataset samples) m:\", m)\n",
    "print(\"(number of features per sample) n:\", n)"
   ],
   "id": "initial_id",
   "outputs": [
    {
     "name": "stdout",
     "output_type": "stream",
     "text": [
      "Shape of contour-based feature array: (30930, 4096)\n",
      "Shape of new y: (30930, 1) [1, 10]\n",
      "(number of dataset samples) m: 30930\n",
      "(number of features per sample) n: 4096\n"
     ]
    }
   ],
   "execution_count": 38
  },
  {
   "metadata": {},
   "cell_type": "code",
   "source": [
    "# construct train and test array\n",
    "X_train = []\n",
    "X_test = []\n",
    "y_train = []\n",
    "y_test = []\n",
    "for i in range(len(idx)-1):\n",
    "    idxleft = idx[i]\n",
    "    idxmiddle = idxleft + int( (idx[i+1]-idx[i])*0.8 )\n",
    "    idxright = idx[i+1]\n",
    "    X_train.extend(X_contour[idxleft : idxmiddle])\n",
    "    X_test.extend(X_contour[idxmiddle: idxright])\n",
    "    y_train.extend(y1[idxleft: idxmiddle])\n",
    "    y_test.extend(y1[idxmiddle: idxright])\n",
    "X_train = np.array(X_train)\n",
    "X_test = np.array(X_test)\n",
    "y_train = np.array(y_train)\n",
    "y_test = np.array(y_test)\n",
    "\n"
   ],
   "id": "9541f59a94ceb66f",
   "outputs": [],
   "execution_count": null
  },
  {
   "metadata": {
    "ExecuteTime": {
     "end_time": "2024-11-13T17:37:57.760278Z",
     "start_time": "2024-11-13T16:53:20.880888Z"
    }
   },
   "cell_type": "code",
   "source": "all_theta, all_cost = oneVsAll(X_features, y_features, 1000, 0.0001, 0.1)",
   "id": "cddc76c90c1ed0ec",
   "outputs": [
    {
     "name": "stdout",
     "output_type": "stream",
     "text": [
      "(1, 10)\n",
      "K 1\n",
      "\tFinal Cost ( 436 ): 0.09952000280322841\n",
      "K 2\n",
      "\tFinal Cost ( 170 ): 0.09964686216784817\n",
      "K 3\n",
      "Cost ( 999 ): 0.76551199636268745\n",
      "K 4\n",
      "Cost ( 999 ): 0.50088847882772826\n",
      "K 5\n",
      "\tFinal Cost ( 98 ): 0.09968226775560374\n",
      "K 6\n",
      "Cost ( 999 ): 0.50761167006050317\n",
      "K 7\n",
      "Cost ( 999 ): 0.92476577897146257\n",
      "K 8\n",
      "\tFinal Cost ( 246 ): 0.09735406983575552\n",
      "K 9\n",
      "Cost ( 999 ): 1.31545153304601776\n"
     ]
    }
   ],
   "execution_count": 39
  },
  {
   "metadata": {
    "ExecuteTime": {
     "end_time": "2024-11-13T17:37:58.612858Z",
     "start_time": "2024-11-13T17:37:57.815874Z"
    }
   },
   "cell_type": "code",
   "source": [
    "plt.plot(all_cost)\n",
    "plt.show()\n",
    "def predictOneVsAll(all_theta, X):\n",
    "    m, n = X.shape\n",
    "    predictions = np.dot(X, all_theta)\n",
    "    return np.argmax(predictions, axis=1)+1\n",
    "\n",
    "predict = predictOneVsAll(all_theta, X_features)\n",
    "print(\"Avg Pred: \", sum(predict==y_features)[0]/len(y_features)*100, \"%\")\n"
   ],
   "id": "517b072b6d38c4b8",
   "outputs": [
    {
     "data": {
      "text/plain": [
       "<Figure size 640x480 with 1 Axes>"
      ],
      "image/png": "[encoded data removed]"
     },
     "metadata": {},
     "output_type": "display_data"
    },
    {
     "name": "stdout",
     "output_type": "stream",
     "text": [
      "Avg Pred:  65.54154542515357 %\n"
     ]
    }
   ],
   "execution_count": 40
  }
 ],
 "metadata": {
  "kernelspec": {
   "display_name": "Python 3",
   "language": "python",
   "name": "python3"
  },
  "language_info": {
   "codemirror_mode": {
    "name": "ipython",
    "version": 2
   },
   "file_extension": ".py",
   "mimetype": "text/x-python",
   "name": "python",
   "nbconvert_exporter": "python",
   "pygments_lexer": "ipython2",
   "version": "2.7.6"
  }
 },
 "nbformat": 4,
 "nbformat_minor": 5
}
