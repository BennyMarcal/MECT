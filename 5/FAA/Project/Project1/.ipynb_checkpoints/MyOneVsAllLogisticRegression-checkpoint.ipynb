{
 "cells": [
  {
   "cell_type": "code",
   "id": "initial_id",
   "metadata": {
    "collapsed": true,
    "ExecuteTime": {
     "end_time": "2024-11-11T18:26:20.356624Z",
     "start_time": "2024-11-11T18:26:20.353863Z"
    }
   },
   "source": [
    "import numpy as np\n",
    "import matplotlib.pyplot as plt\n",
    "import math"
   ],
   "outputs": [],
   "execution_count": 3
  },
  {
   "metadata": {
    "ExecuteTime": {
     "end_time": "2024-11-11T18:26:20.448909Z",
     "start_time": "2024-11-11T18:26:20.374363Z"
    }
   },
   "cell_type": "code",
   "source": [
    "X = np.load(\"dataset/X.npy\")\n",
    "X = X.reshape(X.shape[0], X.shape[1]*X.shape[2])\n",
    "y = np.load(\"dataset/Y.npy\")\n",
    "y1 = np.argmax(y,axis=1).reshape(y.shape[0], 1) + 1 # transform the y into a (m, 1) matrix\n",
    "\n",
    "m = X.shape[0]\n",
    "n = X.shape[1]\n",
    "\n",
    "print(\"(number of dataset samples) m:\", m)\n",
    "print(\"(number of features per sample) n:\", n)"
   ],
   "id": "b426e0082b500a96",
   "outputs": [
    {
     "name": "stdout",
     "output_type": "stream",
     "text": [
      "(number of dataset samples) m: 2062\n",
      "(number of features per sample) n: 4096\n"
     ]
    }
   ],
   "execution_count": 4
  },
  {
   "metadata": {
    "ExecuteTime": {
     "end_time": "2024-11-11T18:26:20.550913Z",
     "start_time": "2024-11-11T18:26:20.548011Z"
    }
   },
   "cell_type": "code",
   "source": [
    "def sigmoid(x):\n",
    "    epsilon = 1e-15\n",
    "    return np.clip(1/(1+np.exp(-x)), 0 + epsilon,  1 - epsilon)\n",
    "print(\"sigmoid(0) =\", sigmoid(0)) # Answer: 0.5"
   ],
   "id": "29bfb908321f52f",
   "outputs": [
    {
     "name": "stdout",
     "output_type": "stream",
     "text": [
      "sigmoid(0) = 0.5\n"
     ]
    }
   ],
   "execution_count": 5
  },
  {
   "metadata": {
    "ExecuteTime": {
     "end_time": "2024-11-11T18:26:20.726844Z",
     "start_time": "2024-11-11T18:26:20.721380Z"
    }
   },
   "cell_type": "code",
   "source": [
    "def predictOne(theta, X):\n",
    "    pred = np.dot(X, theta)\n",
    "    return pred>=0"
   ],
   "id": "4524ee5ea87a9208",
   "outputs": [],
   "execution_count": 6
  },
  {
   "metadata": {},
   "cell_type": "markdown",
   "source": "# Logistic Regression",
   "id": "db500c65cc33385a"
  },
  {
   "metadata": {
    "ExecuteTime": {
     "end_time": "2024-11-11T18:35:48.056886Z",
     "start_time": "2024-11-11T18:35:48.048549Z"
    }
   },
   "cell_type": "code",
   "source": [
    "def logisticRegression(X, y, num_iterations, learning_rate):\n",
    "    m, n = X.shape\n",
    "    theta = np.zeros((n, 1))\n",
    "    b = 0\n",
    "    cost_history = []\n",
    "    for i in range(num_iterations):\n",
    "        h = sigmoid(np.dot(X, theta)) # forward pass\n",
    "        cost = 1/m * np.sum(-y * np.log(h) - (1 - y) * np.log(1 - h)) # cost calculation\n",
    "        grad = (1/m) * np.dot(X.T, (h - y)) # backwards pass\n",
    "        theta -= learning_rate * grad # update weights and bias\n",
    "        learning_rate = min(learning_rate * 1.0001, 1)\n",
    "        cost_history += [cost]\n",
    "        if i % 10 == 0:\n",
    "            print(\"\\rCost (\",i,learning_rate,\"):\", cost_history[-1], end=\"\")\n",
    "            \n",
    "    return theta, cost_history"
   ],
   "id": "e3d77b041ed7d3a5",
   "outputs": [],
   "execution_count": 39
  },
  {
   "metadata": {},
   "cell_type": "markdown",
   "source": "## Test prediction with training data (only tests the match of the first class)",
   "id": "ad5086816153ecf5"
  },
  {
   "metadata": {
    "ExecuteTime": {
     "end_time": "2024-11-11T18:37:08.181706Z",
     "start_time": "2024-11-11T18:35:50.238623Z"
    }
   },
   "cell_type": "code",
   "source": [
    "theta, cost_history = logisticRegression(X, np.where(y1 == 1, 1, 0), 2000, 0.01)\n",
    "print(\"Final cost:\", cost_history[-1])\n",
    "plt.plot(cost_history)\n",
    "pred = predictOne(theta, X)\n",
    "print(\"Pred: \", (sum(pred==np.where(y1 == 1, 1, 0))[0]/len(y1)*100), \"%\")\n"
   ],
   "id": "5ad34600c8c73a94",
   "outputs": [
    {
     "name": "stdout",
     "output_type": "stream",
     "text": [
      "Cost ( 1990 0.012202918429415977 ): 0.10654607108767714Final cost: 0.10637697140437902\n",
      "Pred:  96.70223084384094 %\n"
     ]
    },
    {
     "data": {
      "text/plain": [
       "<Figure size 640x480 with 1 Axes>"
      ],
      "image/png": "[encoded data removed]"
     },
     "metadata": {},
     "output_type": "display_data"
    }
   ],
   "execution_count": 40
  },
  {
   "metadata": {},
   "cell_type": "markdown",
   "source": "# Regulated Logistic Regression",
   "id": "abc1af366916608e"
  },
  {
   "metadata": {
    "ExecuteTime": {
     "end_time": "2024-11-11T18:28:56.929598Z",
     "start_time": "2024-11-11T18:28:56.924499Z"
    }
   },
   "cell_type": "code",
   "source": [
    "def logisticRegressionReg(X, y, num_iterations, learning_rate):\n",
    "    m, n = X.shape\n",
    "    theta = np.zeros((n, 1))\n",
    "    b = 0\n",
    "    cost_history = []\n",
    "    for i in range(num_iterations):\n",
    "        h = sigmoid(np.dot(X, theta)) # forward pass\n",
    "        cost = 1/m * np.sum(-y * np.log(h) - (1 - y) * np.log(1 - h)) # cost calculation\n",
    "        cost += b/(2*m) * np.sum(theta[1:]**2)\n",
    "        grad_0 = (1/m) * np.dot(X.T, (h - y))[0] # backwards pass for j=0\n",
    "        grad_rest = (1/m) * np.dot(X.T, (h - y))[1:] + (b/m) * theta[1:] # backwards pass for j>0\n",
    "        db = (1/m) * np.sum((h - y)**2)\n",
    "        theta -= learning_rate * np.append(grad_0, grad_rest).reshape((-1, 1)) # update weights and bias\n",
    "        b -= learning_rate * db\n",
    "        cost_history += [cost]\n",
    "        if i % 10 == 0:\n",
    "            print(\"\\rCost (\",i,\"):\", cost_history[-1], end=\"\")\n",
    "    print(\"\")\n",
    "    return theta, cost_history"
   ],
   "id": "897af1a2b7b0ba56",
   "outputs": [],
   "execution_count": 19
  },
  {
   "metadata": {},
   "cell_type": "markdown",
   "source": "## Test prediction with training data (only tests the match of the first class)",
   "id": "929bd198e0c35527"
  },
  {
   "metadata": {
    "ExecuteTime": {
     "end_time": "2024-11-11T18:29:41.053054Z",
     "start_time": "2024-11-11T18:29:16.039347Z"
    }
   },
   "cell_type": "code",
   "source": [
    "theta, cost_history = logisticRegressionReg(X, np.where(y1 == 1, 1, 0), 100, 0.01)\n",
    "print(\"Last Cost:\", cost_history[-1])\n",
    "plt.plot(cost_history)\n",
    "pred = predictOne(theta, X)\n",
    "print(\"Pred: \", (sum(pred==np.where(y1 == 1, 1, 0))[0]/len(y1)*100), \"%\")"
   ],
   "id": "4b180e2936e120d7",
   "outputs": [
    {
     "name": "stdout",
     "output_type": "stream",
     "text": [
      "Cost ( 410 ): 0.26480276844676565"
     ]
    },
    {
     "ename": "KeyboardInterrupt",
     "evalue": "",
     "output_type": "error",
     "traceback": [
      "\u001B[0;31m---------------------------------------------------------------------------\u001B[0m",
      "\u001B[0;31mKeyboardInterrupt\u001B[0m                         Traceback (most recent call last)",
      "Cell \u001B[0;32mIn[21], line 1\u001B[0m\n\u001B[0;32m----> 1\u001B[0m theta, cost_history \u001B[38;5;241m=\u001B[39m logisticRegressionReg(X, np\u001B[38;5;241m.\u001B[39mwhere(y1 \u001B[38;5;241m==\u001B[39m \u001B[38;5;241m1\u001B[39m, \u001B[38;5;241m1\u001B[39m, \u001B[38;5;241m0\u001B[39m), \u001B[38;5;241m1000\u001B[39m, \u001B[38;5;241m0.01\u001B[39m)\n\u001B[1;32m      2\u001B[0m \u001B[38;5;28mprint\u001B[39m(\u001B[38;5;124m\"\u001B[39m\u001B[38;5;124mLast Cost:\u001B[39m\u001B[38;5;124m\"\u001B[39m, cost_history[\u001B[38;5;241m-\u001B[39m\u001B[38;5;241m1\u001B[39m])\n\u001B[1;32m      3\u001B[0m plt\u001B[38;5;241m.\u001B[39mplot(cost_history)\n",
      "Cell \u001B[0;32mIn[19], line 11\u001B[0m, in \u001B[0;36mlogisticRegressionReg\u001B[0;34m(X, y, num_iterations, learning_rate)\u001B[0m\n\u001B[1;32m      9\u001B[0m cost \u001B[38;5;241m+\u001B[39m\u001B[38;5;241m=\u001B[39m b\u001B[38;5;241m/\u001B[39m(\u001B[38;5;241m2\u001B[39m\u001B[38;5;241m*\u001B[39mm) \u001B[38;5;241m*\u001B[39m np\u001B[38;5;241m.\u001B[39msum(theta[\u001B[38;5;241m1\u001B[39m:]\u001B[38;5;241m*\u001B[39m\u001B[38;5;241m*\u001B[39m\u001B[38;5;241m2\u001B[39m)\n\u001B[1;32m     10\u001B[0m grad_0 \u001B[38;5;241m=\u001B[39m (\u001B[38;5;241m1\u001B[39m\u001B[38;5;241m/\u001B[39mm) \u001B[38;5;241m*\u001B[39m np\u001B[38;5;241m.\u001B[39mdot(X\u001B[38;5;241m.\u001B[39mT, (h \u001B[38;5;241m-\u001B[39m y))[\u001B[38;5;241m0\u001B[39m] \u001B[38;5;66;03m# backwards pass for j=0\u001B[39;00m\n\u001B[0;32m---> 11\u001B[0m grad_rest \u001B[38;5;241m=\u001B[39m (\u001B[38;5;241m1\u001B[39m\u001B[38;5;241m/\u001B[39mm) \u001B[38;5;241m*\u001B[39m np\u001B[38;5;241m.\u001B[39mdot(X\u001B[38;5;241m.\u001B[39mT, (h \u001B[38;5;241m-\u001B[39m y))[\u001B[38;5;241m1\u001B[39m:] \u001B[38;5;241m+\u001B[39m (b\u001B[38;5;241m/\u001B[39mm) \u001B[38;5;241m*\u001B[39m theta[\u001B[38;5;241m1\u001B[39m:] \u001B[38;5;66;03m# backwards pass for j>0\u001B[39;00m\n\u001B[1;32m     12\u001B[0m db \u001B[38;5;241m=\u001B[39m (\u001B[38;5;241m1\u001B[39m\u001B[38;5;241m/\u001B[39mm) \u001B[38;5;241m*\u001B[39m np\u001B[38;5;241m.\u001B[39msum((h \u001B[38;5;241m-\u001B[39m y)\u001B[38;5;241m*\u001B[39m\u001B[38;5;241m*\u001B[39m\u001B[38;5;241m2\u001B[39m)\n\u001B[1;32m     13\u001B[0m theta \u001B[38;5;241m-\u001B[39m\u001B[38;5;241m=\u001B[39m learning_rate \u001B[38;5;241m*\u001B[39m np\u001B[38;5;241m.\u001B[39mappend(grad_0, grad_rest)\u001B[38;5;241m.\u001B[39mreshape((\u001B[38;5;241m-\u001B[39m\u001B[38;5;241m1\u001B[39m, \u001B[38;5;241m1\u001B[39m)) \u001B[38;5;66;03m# update weights and bias\u001B[39;00m\n",
      "\u001B[0;31mKeyboardInterrupt\u001B[0m: "
     ]
    }
   ],
   "execution_count": 21
  },
  {
   "metadata": {},
   "cell_type": "markdown",
   "source": "# Multiclass prediction (OneVsAll)\n",
   "id": "7e8ff51d56416048"
  },
  {
   "metadata": {
    "ExecuteTime": {
     "end_time": "2024-11-11T18:38:05.723457Z",
     "start_time": "2024-11-11T18:37:28.346407Z"
    }
   },
   "cell_type": "code",
   "source": [
    "def oneVsAll(X, y, num_iterations, learning_rate):\n",
    "    m, n = X.shape\n",
    "    k = (np.min(y), np.max(y))\n",
    "\n",
    "    all_theta = []\n",
    "    all_cost = []\n",
    "    for i in range(*k):\n",
    "        theta, cost_history = logisticRegression(X, np.where(y == i, 1, 0), num_iterations, learning_rate)\n",
    "        all_theta.append(theta)\n",
    "        all_cost.extend(cost_history)\n",
    "        print(\"\")\n",
    "    \n",
    "    return all_theta, all_cost\n",
    "    \n",
    "    \n",
    "all_theta, all_cost = oneVsAll(X, y1, 100, 0.01)\n"
   ],
   "id": "8b6e98ee82b60c45",
   "outputs": [
    {
     "name": "stdout",
     "output_type": "stream",
     "text": [
      "Cost ( 90 0.01009141071752731 ): 0.268491896887463316\n",
      "Cost ( 90 0.01009141071752731 ): 0.235333773498358936\n",
      "Cost ( 90 0.01009141071752731 ): 0.295667456256722646\n",
      "Cost ( 90 0.01009141071752731 ): 0.297089192148871515\n",
      "Cost ( 90 0.01009141071752731 ): 0.278887330576772956\n",
      "Cost ( 90 0.01009141071752731 ): 0.293493564513579333\n",
      "Cost ( 90 0.01009141071752731 ): 0.306575287255478454\n",
      "Cost ( 90 0.01009141071752731 ): 0.275574278182369337\n",
      "Cost ( 90 0.01009141071752731 ): 0.294073999048788734\n"
     ]
    }
   ],
   "execution_count": 41
  },
  {
   "metadata": {
    "ExecuteTime": {
     "end_time": "2024-11-11T18:28:01.181541Z",
     "start_time": "2024-11-11T18:28:01.087440Z"
    }
   },
   "cell_type": "code",
   "source": [
    "plt.plot(all_cost)\n",
    "plt.show()"
   ],
   "id": "20816751db8e5c5c",
   "outputs": [
    {
     "data": {
      "text/plain": [
       "<Figure size 640x480 with 1 Axes>"
      ],
      "image/png": "[encoded data removed]"
     },
     "metadata": {},
     "output_type": "display_data"
    }
   ],
   "execution_count": 14
  },
  {
   "metadata": {
    "ExecuteTime": {
     "end_time": "2024-11-11T18:28:04.871551Z",
     "start_time": "2024-11-11T18:28:04.816066Z"
    }
   },
   "cell_type": "code",
   "source": [
    "def predictOneVsAll(all_theta, X):\n",
    "    m, n = X.shape\n",
    "    predictions = np.dot(X, all_theta)\n",
    "    return np.argmax(predictions, axis=1)+1\n",
    "\n",
    "predict = predictOneVsAll(all_theta, X)\n",
    "print(\"Pred:\", sum(predict==y1)[0]/len(y)*100, \"%\")\n"
   ],
   "id": "150ed63ec7d22dab",
   "outputs": [
    {
     "name": "stdout",
     "output_type": "stream",
     "text": [
      "Pred: 59.35984481086324 %\n"
     ]
    }
   ],
   "execution_count": 15
  },
  {
   "metadata": {},
   "cell_type": "code",
   "outputs": [],
   "execution_count": null,
   "source": "",
   "id": "186f7de487d9da2d"
  }
 ],
 "metadata": {
  "kernelspec": {
   "display_name": "Python 3",
   "language": "python",
   "name": "python3"
  },
  "language_info": {
   "codemirror_mode": {
    "name": "ipython",
    "version": 2
   },
   "file_extension": ".py",
   "mimetype": "text/x-python",
   "name": "python",
   "nbconvert_exporter": "python",
   "pygments_lexer": "ipython2",
   "version": "2.7.6"
  }
 },
 "nbformat": 4,
 "nbformat_minor": 5
}
